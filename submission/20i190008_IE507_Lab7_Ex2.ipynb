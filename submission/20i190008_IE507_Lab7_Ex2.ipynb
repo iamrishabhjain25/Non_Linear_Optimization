{
  "nbformat": 4,
  "nbformat_minor": 0,
  "metadata": {
    "colab": {
      "name": "20i190008_IE507_Lab7_Ex2.ipynb",
      "provenance": [],
      "collapsed_sections": [
        "O2THiBtw_VWn",
        "alJcg6BlKXwW",
        "H3KJfBAC-OT2"
      ]
    },
    "kernelspec": {
      "name": "python3",
      "display_name": "Python 3"
    }
  },
  "cells": [
    {
      "cell_type": "markdown",
      "metadata": {
        "id": "O2THiBtw_VWn"
      },
      "source": [
        "# **Installing packages and importing libraries**"
      ]
    },
    {
      "cell_type": "code",
      "metadata": {
        "id": "P-Gtr9UN7JxB"
      },
      "source": [
        "\n",
        "!pip install -q pyomo\n",
        "from pyomo.environ import *\n",
        "import numpy as np\n",
        "import pandas as pd\n",
        "\n",
        "!apt-get install -y -qq glpk-utils\n",
        "\n",
        "!apt-get install -y -qq coinor-cbc\n"
      ],
      "execution_count": null,
      "outputs": []
    },
    {
      "cell_type": "code",
      "metadata": {
        "id": "VCWLUCUJD7Ll",
        "outputId": "2e9bfe40-20e2-4a0e-f538-599a3c8802c8",
        "colab": {
          "base_uri": "https://localhost:8080/",
          "height": 196
        }
      },
      "source": [
        "%%bash\n",
        "rm -fv ipopt*\n",
        "apt install -q -yy libgfortran5\n",
        "sleep 1\n",
        "wget -q https://www.ieor.iitb.ac.in/files/faculty/amahajan/ipopt\n",
        "wget -q https://www.ieor.iitb.ac.in/files/faculty/amahajan/test.nl\n",
        "chmod u+rx ipopt\n",
        "\n",
        "!./ipopt test.nl"
      ],
      "execution_count": null,
      "outputs": [
        {
          "output_type": "stream",
          "text": [
            "removed 'ipopt'\n",
            "Reading package lists...\n",
            "Building dependency tree...\n",
            "Reading state information...\n",
            "libgfortran5 is already the newest version (8.4.0-1ubuntu1~18.04).\n",
            "0 upgraded, 0 newly installed, 0 to remove and 21 not upgraded.\n"
          ],
          "name": "stdout"
        },
        {
          "output_type": "stream",
          "text": [
            "\n",
            "WARNING: apt does not have a stable CLI interface. Use with caution in scripts.\n",
            "\n",
            "bash: line 8: !./ipopt: No such file or directory\n"
          ],
          "name": "stderr"
        }
      ]
    },
    {
      "cell_type": "markdown",
      "metadata": {
        "id": "alJcg6BlKXwW"
      },
      "source": [
        "# EX2 : Part 1,2,3 : Problem formulation , model and solver\n",
        "\n",
        "Lets take the house as the origion with coordinates (0.0). And the west denotes the positive x side, east denotes the negative x side and north and south be positive and negative y respectively.\n",
        "\n",
        "Then our problem reduces to solving the following :\n",
        "\n",
        "\n",
        " \\begin{array}{l}\n",
        "Let\\ ( x_{f} ,y_{f}) \\ be\\ the\\ end\\ point\\ of\\ the\\ pipeline\\ in\\ the\\ farm.\\\\\n",
        "Let\\ ( x_{l} ,y_{l}) \\ be\\ the\\ start\\ point\\ of\\ the\\ pipeline\\ in\\ the\\ lake.\\\\\n",
        "\\\\\n",
        "The\\ shortest\\ path\\ between\\ two\\ points\\ is\\ say\\ Z=\\ \\sqrt{( y_{f} -y_{l})^{2} +( x_{f} -x_{l})^{2}}\\\\\n",
        "\\\\\n",
        "Min\\ \\ Z=\\ \\ \\sqrt{\\ ( y_{f} -y_{l})^{2} +( x_{f} -x_{l})^{2}}\\\\\n",
        "\\\\\n",
        "s.t\\\\\n",
        "\\\\\n",
        "x_{f} +y_{f} \\ \\leqslant 0\\\\\n",
        "x_{f} -y_{f} -200\\ \\leqslant \\ 0\\\\\n",
        "-x_{f} -y_{f} -200\\ \\leqslant 0\\\\\n",
        "3y_{f} -x_{f} \\ \\leqslant \\ 0\\\\\n",
        "( x_{l} +200)^{2} +( y_{l} -200)^{2} \\ \\leqslant 50^{2}\n",
        "\\end{array}\n",
        "\n",
        "\n"
      ]
    },
    {
      "cell_type": "code",
      "metadata": {
        "id": "BeS5-7k00mZl",
        "outputId": "f6bfba52-a9b7-4b78-a21b-a6a87eda09f3",
        "colab": {
          "base_uri": "https://localhost:8080/",
          "height": 767
        }
      },
      "source": [
        "model = ConcreteModel()\n",
        "\n",
        "model.xf = Var()\n",
        "model.yf = Var()\n",
        "model.xl = Var()\n",
        "model.yl = Var()\n",
        "\n",
        "model.obj = Objective(expr = (model.yf - model.yl) **2 +  (model.xf - model.xl) ** 2 , sense=minimize )\n",
        "model.cons = ConstraintList()\n",
        "\n",
        "model.cons.add(model.xf + model.yf <= 0)\n",
        "model.cons.add(model.xf - model.yf - 200 <= 0)\n",
        "model.cons.add((-1*model.xf) - model.yf - 200 <= 0)\n",
        "model.cons.add(-1*model.xf + 3*model.yf <= 0)\n",
        "model.cons.add( ((model.xl + 200)**2) +  ((model.yl-200)**2) - 2500  <= 0)\n",
        "\n",
        "model.pprint()\n",
        "\n",
        "solver = SolverFactory('ipopt')\n",
        "result = solver.solve(model)\n",
        "#print(result)\n",
        "\n",
        "print('Solver status:', result.solver.status)\n",
        "print('Solver termination condition:',result.solver.termination_condition)\n",
        "print('\\nObjective : Z = ', sqrt(model.obj()))\n",
        "\n",
        "print('\\nDecision Variables')\n",
        "print('(xf, yf)  = ','(', model.xf.value, ',', model.yf.value, ')')  \n",
        "print('(xl, yl)  = ','(', model.xl.value, ',', model.yl.value, ')')\n",
        "\n",
        "\n"
      ],
      "execution_count": null,
      "outputs": [
        {
          "output_type": "stream",
          "text": [
            "1 Set Declarations\n",
            "    cons_index : Size=1, Index=None, Ordered=Insertion\n",
            "        Key  : Dimen : Domain : Size : Members\n",
            "        None :     1 :    Any :    5 : {1, 2, 3, 4, 5}\n",
            "\n",
            "4 Var Declarations\n",
            "    xf : Size=1, Index=None\n",
            "        Key  : Lower : Value : Upper : Fixed : Stale : Domain\n",
            "        None :  None :  None :  None : False :  True :  Reals\n",
            "    xl : Size=1, Index=None\n",
            "        Key  : Lower : Value : Upper : Fixed : Stale : Domain\n",
            "        None :  None :  None :  None : False :  True :  Reals\n",
            "    yf : Size=1, Index=None\n",
            "        Key  : Lower : Value : Upper : Fixed : Stale : Domain\n",
            "        None :  None :  None :  None : False :  True :  Reals\n",
            "    yl : Size=1, Index=None\n",
            "        Key  : Lower : Value : Upper : Fixed : Stale : Domain\n",
            "        None :  None :  None :  None : False :  True :  Reals\n",
            "\n",
            "1 Objective Declarations\n",
            "    obj : Size=1, Index=None, Active=True\n",
            "        Key  : Active : Sense    : Expression\n",
            "        None :   True : minimize : (yf - yl)**2 + (xf - xl)**2\n",
            "\n",
            "1 Constraint Declarations\n",
            "    cons : Size=5, Index=cons_index, Active=True\n",
            "        Key : Lower : Body                                 : Upper : Active\n",
            "          1 :  -Inf :                              xf + yf :   0.0 :   True\n",
            "          2 :  -Inf :                        xf - yf - 200 :   0.0 :   True\n",
            "          3 :  -Inf :                      - xf - yf - 200 :   0.0 :   True\n",
            "          4 :  -Inf :                          - xf + 3*yf :   0.0 :   True\n",
            "          5 :  -Inf : (xl + 200)**2 + (yl - 200)**2 - 2500 :   0.0 :   True\n",
            "\n",
            "7 Declarations: xf yf xl yl obj cons_index cons\n",
            "Solver status: ok\n",
            "Solver termination condition: optimal\n",
            "\n",
            "Objective : Z =  202.98221256032042\n",
            "\n",
            "Decision Variables\n",
            "(xf, yf)  =  ( -120.00000000096625 , -39.99999999699526 )\n",
            "(xl, yl)  =  ( -184.18861162009682 , 152.56583486031144 )\n"
          ],
          "name": "stdout"
        }
      ]
    },
    {
      "cell_type": "markdown",
      "metadata": {
        "id": "H3KJfBAC-OT2"
      },
      "source": [
        "# EX2 : Part 4,5,6 : Problem formulation , model and solver\n",
        "\n",
        "Let (xj,yj) be the coordinates of the place where junction is and (xh, yh) be the location where the pipe from the junction ends in the store house.\n",
        "\n",
        " \\begin{array}{l}\n",
        "Squared\\ Distance\\ between\\ lake\\ and\\ junction,\\ Z_{1} \\ =\\ ( x_{j} -x_{l})^{2} +( y_{j} -y_{l})^{2}\\\\\n",
        "Squared\\ Distance\\ between\\ junction\\ and\\ the\\ store\\ house,\\ Z_{2} \\ =( x_{j} -x_{h})^{2} +( y_{j} -y_{h})^{2} \\ \\\\\n",
        "Squared\\ Distance\\ between\\ junction\\ and\\ the\\ farm,\\ Z_{3} \\ =\\ ( x_{j} -x_{f})^{2} +( y_{j} -y_{f})^{2}\\\\\n",
        "\\\\\n",
        "\\\\\n",
        "min\\ :\\ Z_{1} \\ +\\ 0.2Z_{2} \\ +\\ Z_{3}\\\\\n",
        "s.t\\\\\n",
        "\\\\\n",
        "x_{f} +y_{f} \\ \\leqslant 0\\\\\n",
        "x_{f} -y_{f} -200\\ \\leqslant \\ 0\\\\\n",
        "-x_{f} -y_{f} -200\\ \\leqslant 0\\\\\n",
        "3y_{f} -x_{f} \\ \\leqslant \\ 0\\\\\n",
        "( x_{l} +200)^{2} +( y_{l} -200)^{2} \\ \\leqslant 50^{2}\\\\\n",
        "\\\\\n",
        "x_{h} \\ =\\ -15\\\\\n",
        "y_{h} \\ =\\ 20\n",
        "\\end{array}\n"
      ]
    },
    {
      "cell_type": "code",
      "metadata": {
        "id": "qUUBEwMK2hh2",
        "outputId": "4d7490ee-d7cf-4c50-fec4-e9012bc39332",
        "colab": {
          "base_uri": "https://localhost:8080/",
          "height": 1000
        }
      },
      "source": [
        "\n",
        "model.xj = Var()\n",
        "model.yj = Var()\n",
        "\n",
        "model.xh = Var()\n",
        "model.yh = Var()\n",
        "\n",
        "model.obj = Objective(expr = ((model.yj - model.yl) **2 +  (model.xj - model.xl) ** 2) + 0.2*((model.yj - model.yh) **2 +  (model.xj - model.xh) ** 2) + ((model.yj - model.yf) **2 +  (model.xj - model.xf) ** 2)    , sense=minimize)\n",
        "\n",
        "model.cons.add(model.xh == -15)\n",
        "model.cons.add(model.yh == 20)\n",
        "\n",
        "model.pprint()\n",
        "\n",
        "solver = SolverFactory('ipopt')\n",
        "result = solver.solve(model)\n",
        "#print(result)\n",
        "\n",
        "print('Solver status:', result.solver.status)\n",
        "print('Solver termination condition:',result.solver.termination_condition)\n",
        "print('\\nObjective :  = ', model.obj())\n",
        "\n",
        "print('\\nDecision Variables')\n",
        "print('(xf, yf)  = ','(', model.xf.value, ',', model.yf.value, ')')  \n",
        "print('(xl, yl)  = ','(', model.xl.value, ',', model.yl.value, ')')\n",
        "print('(xj, yj)  = ','(', model.xj.value, ',', model.yj.value, ')')\n",
        "print('(xh, yh)  = ','(', model.xh.value, ',', model.yh.value, ')')\n"
      ],
      "execution_count": null,
      "outputs": [
        {
          "output_type": "stream",
          "text": [
            "WARNING: Implicitly replacing the Component attribute obj (type=<class\n",
            "    'pyomo.core.base.objective.SimpleObjective'>) on block unknown with a new\n",
            "    Component (type=<class 'pyomo.core.base.objective.SimpleObjective'>). This\n",
            "    is usually indicative of a modelling error. To avoid this warning, use\n",
            "    block.del_component() and block.add_component().\n",
            "1 Set Declarations\n",
            "    cons_index : Size=1, Index=None, Ordered=Insertion\n",
            "        Key  : Dimen : Domain : Size : Members\n",
            "        None :     1 :    Any :    7 : {1, 2, 3, 4, 5, 6, 7}\n",
            "\n",
            "8 Var Declarations\n",
            "    xf : Size=1, Index=None\n",
            "        Key  : Lower : Value               : Upper : Fixed : Stale : Domain\n",
            "        None :  None : -120.00000000096625 :  None : False : False :  Reals\n",
            "    xh : Size=1, Index=None\n",
            "        Key  : Lower : Value : Upper : Fixed : Stale : Domain\n",
            "        None :  None :  None :  None : False :  True :  Reals\n",
            "    xj : Size=1, Index=None\n",
            "        Key  : Lower : Value : Upper : Fixed : Stale : Domain\n",
            "        None :  None :  None :  None : False :  True :  Reals\n",
            "    xl : Size=1, Index=None\n",
            "        Key  : Lower : Value               : Upper : Fixed : Stale : Domain\n",
            "        None :  None : -184.18861162009682 :  None : False : False :  Reals\n",
            "    yf : Size=1, Index=None\n",
            "        Key  : Lower : Value              : Upper : Fixed : Stale : Domain\n",
            "        None :  None : -39.99999999699526 :  None : False : False :  Reals\n",
            "    yh : Size=1, Index=None\n",
            "        Key  : Lower : Value : Upper : Fixed : Stale : Domain\n",
            "        None :  None :  None :  None : False :  True :  Reals\n",
            "    yj : Size=1, Index=None\n",
            "        Key  : Lower : Value : Upper : Fixed : Stale : Domain\n",
            "        None :  None :  None :  None : False :  True :  Reals\n",
            "    yl : Size=1, Index=None\n",
            "        Key  : Lower : Value              : Upper : Fixed : Stale : Domain\n",
            "        None :  None : 152.56583486031144 :  None : False : False :  Reals\n",
            "\n",
            "1 Objective Declarations\n",
            "    obj : Size=1, Index=None, Active=True\n",
            "        Key  : Active : Sense    : Expression\n",
            "        None :   True : minimize : (yj - yl)**2 + (xj - xl)**2 + 0.2*((yj - yh)**2 + (xj - xh)**2) + (yj - yf)**2 + (xj - xf)**2\n",
            "\n",
            "1 Constraint Declarations\n",
            "    cons : Size=7, Index=cons_index, Active=True\n",
            "        Key : Lower : Body                                 : Upper : Active\n",
            "          1 :  -Inf :                              xf + yf :   0.0 :   True\n",
            "          2 :  -Inf :                        xf - yf - 200 :   0.0 :   True\n",
            "          3 :  -Inf :                      - xf - yf - 200 :   0.0 :   True\n",
            "          4 :  -Inf :                          - xf + 3*yf :   0.0 :   True\n",
            "          5 :  -Inf : (xl + 200)**2 + (yl - 200)**2 - 2500 :   0.0 :   True\n",
            "          6 : -15.0 :                                   xh : -15.0 :   True\n",
            "          7 :  20.0 :                                   yh :  20.0 :   True\n",
            "\n",
            "11 Declarations: xf yf xl yl cons_index cons xj yj xh yh obj\n",
            "Solver status: ok\n",
            "Solver termination condition: optimal\n",
            "\n",
            "Objective :  =  23878.698893908495\n",
            "\n",
            "Decision Variables\n",
            "(xf, yf)  =  ( -94.67459978537818 , -31.558199925210875 )\n",
            "(xl, yl)  =  ( -176.51842419229058 , 155.85687343900642 )\n",
            "(xj, yj)  =  ( -124.63319271712216 , 58.31757886990707 )\n",
            "(xh, yh)  =  ( -15.0 , 20.0 )\n"
          ],
          "name": "stdout"
        }
      ]
    },
    {
      "cell_type": "code",
      "metadata": {
        "id": "M2onvANY7S3O"
      },
      "source": [
        ""
      ],
      "execution_count": null,
      "outputs": []
    }
  ]
}