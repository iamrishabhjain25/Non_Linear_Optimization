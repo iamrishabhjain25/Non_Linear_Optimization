{
  "nbformat": 4,
  "nbformat_minor": 0,
  "metadata": {
    "colab": {
      "name": "20i190008_IE507_Lab7_Ex1.ipynb",
      "provenance": [],
      "collapsed_sections": []
    },
    "kernelspec": {
      "name": "python3",
      "display_name": "Python 3"
    }
  },
  "cells": [
    {
      "cell_type": "markdown",
      "metadata": {
        "id": "O2THiBtw_VWn"
      },
      "source": [
        "# **Installing packages and importing libraries**"
      ]
    },
    {
      "cell_type": "code",
      "metadata": {
        "id": "P-Gtr9UN7JxB"
      },
      "source": [
        "\n",
        "!pip install -q pyomo\n",
        "from pyomo.environ import *\n",
        "import numpy as np\n",
        "import pandas as pd\n",
        "\n",
        "!apt-get install -y -qq glpk-utils\n",
        "\n",
        "!apt-get install -y -qq coinor-cbc\n"
      ],
      "execution_count": null,
      "outputs": []
    },
    {
      "cell_type": "code",
      "metadata": {
        "id": "VCWLUCUJD7Ll",
        "outputId": "39a5fad0-2e7e-4bf3-bcbd-164d2c3b8f97",
        "colab": {
          "base_uri": "https://localhost:8080/",
          "height": 196
        }
      },
      "source": [
        "%%bash\n",
        "rm -fv ipopt*\n",
        "apt install -q -yy libgfortran5\n",
        "sleep 1\n",
        "wget -q https://www.ieor.iitb.ac.in/files/faculty/amahajan/ipopt\n",
        "wget -q https://www.ieor.iitb.ac.in/files/faculty/amahajan/test.nl\n",
        "chmod u+rx ipopt\n",
        "\n",
        "!./ipopt test.nl"
      ],
      "execution_count": null,
      "outputs": [
        {
          "output_type": "stream",
          "text": [
            "removed 'ipopt'\n",
            "Reading package lists...\n",
            "Building dependency tree...\n",
            "Reading state information...\n",
            "libgfortran5 is already the newest version (8.4.0-1ubuntu1~18.04).\n",
            "0 upgraded, 0 newly installed, 0 to remove and 6 not upgraded.\n"
          ],
          "name": "stdout"
        },
        {
          "output_type": "stream",
          "text": [
            "\n",
            "WARNING: apt does not have a stable CLI interface. Use with caution in scripts.\n",
            "\n",
            "bash: line 8: !./ipopt: No such file or directory\n"
          ],
          "name": "stderr"
        }
      ]
    },
    {
      "cell_type": "markdown",
      "metadata": {
        "id": "yfzUo8MGFTlS"
      },
      "source": [
        "# Ex 1 Part 1 and 2 : *Adding the constraints and solving for solution*\n",
        "\n",
        " \\begin{array}{l}\n",
        "Min\\ \\ \\ \\ \\ 100\\left( x_{2} -x^{2}_{1}\\right)^{2} +\\ ( 1-x_{1})^{2}\\\\\n",
        "s.t\\\\\n",
        "5\\leqslant \\ x_{1} \\ \\leqslant 10\\\\\n",
        "5\\leqslant \\ x_{2} \\ \\leqslant 10\n",
        "\\end{array}\n",
        "\n"
      ]
    },
    {
      "cell_type": "code",
      "metadata": {
        "id": "uwLRY2A5GKSA",
        "outputId": "b6a7f348-97d1-4218-83c2-7e7031fd1a1c",
        "colab": {
          "base_uri": "https://localhost:8080/",
          "height": 910
        }
      },
      "source": [
        "model = ConcreteModel()\n",
        "model.x1 = Var()\n",
        "model.x2 = Var()\n",
        "\n",
        "model.obj = Objective(expr = 100.0*(model.x2-model.x1**2)**2 + (1-model.x1)**2, sense=minimize)\n",
        "model.cons = ConstraintList()\n",
        "\n",
        "model.x1.setub(10)\n",
        "model.x1.setlb(5)\n",
        "\n",
        "model.x2.setub(10)\n",
        "model.x2.setlb(5)\n",
        "\n",
        "model.pprint() \n",
        "\n",
        "\n",
        "solver = SolverFactory('ipopt')\n",
        "result = solver.solve(model)\n",
        "print(result)\n",
        "\n",
        "print('Solver status:', result.solver.status)\n",
        "print('Solver termination condition:',result.solver.termination_condition)\n",
        "print('\\nObjective = ', model.obj())\n",
        "\n",
        "print('\\nDecision Variables')\n",
        "print('x1 = ', model.x1.value)  \n",
        "print('x2 = ', model.x2.value) "
      ],
      "execution_count": null,
      "outputs": [
        {
          "output_type": "stream",
          "text": [
            "1 Set Declarations\n",
            "    cons_index : Size=1, Index=None, Ordered=Insertion\n",
            "        Key  : Dimen : Domain : Size : Members\n",
            "        None :     1 :    Any :    0 :      {}\n",
            "\n",
            "2 Var Declarations\n",
            "    x1 : Size=1, Index=None\n",
            "        Key  : Lower : Value : Upper : Fixed : Stale : Domain\n",
            "        None :     5 :  None :    10 : False :  True :  Reals\n",
            "    x2 : Size=1, Index=None\n",
            "        Key  : Lower : Value : Upper : Fixed : Stale : Domain\n",
            "        None :     5 :  None :    10 : False :  True :  Reals\n",
            "\n",
            "1 Objective Declarations\n",
            "    obj : Size=1, Index=None, Active=True\n",
            "        Key  : Active : Sense    : Expression\n",
            "        None :   True : minimize : 100.0*(x2 - x1**2)**2 + (1 - x1)**2\n",
            "\n",
            "1 Constraint Declarations\n",
            "    cons : Size=0, Index=cons_index, Active=True\n",
            "        Key : Lower : Body : Upper : Active\n",
            "\n",
            "5 Declarations: x1 x2 obj cons_index cons\n",
            "\n",
            "Problem: \n",
            "- Lower bound: -inf\n",
            "  Upper bound: inf\n",
            "  Number of objectives: 1\n",
            "  Number of constraints: 0\n",
            "  Number of variables: 2\n",
            "  Sense: unknown\n",
            "Solver: \n",
            "- Status: ok\n",
            "  Message: Ipopt 3.13.2\\x3a Optimal Solution Found\n",
            "  Termination condition: optimal\n",
            "  Id: 0\n",
            "  Error rc: 0\n",
            "  Time: 0.023233890533447266\n",
            "Solution: \n",
            "- number of solutions: 0\n",
            "  number of solutions displayed: 0\n",
            "\n",
            "Solver status: ok\n",
            "Solver termination condition: optimal\n",
            "\n",
            "Objective =  22516.0\n",
            "\n",
            "Decision Variables\n",
            "x1 =  5.0\n",
            "x2 =  10.0\n"
          ],
          "name": "stdout"
        }
      ]
    },
    {
      "cell_type": "markdown",
      "metadata": {
        "id": "_c8sASzUHEBn"
      },
      "source": [
        "# Part 3 and 4\n",
        "\n",
        "Adding the additional constraint \n",
        "\n",
        " \\begin{array}{l}\n",
        "Min\\ \\ \\ \\ \\ 100\\left( x_{2} -x^{2}_{1}\\right)^{2} +\\ ( 1-x_{1})^{2}\\\\\n",
        "s.t\\\\\n",
        "5\\leqslant \\ x_{1} \\ \\leqslant 10\\\\\n",
        "5\\leqslant \\ x_{2} \\ \\leqslant 10\\\\\n",
        "\\\\\n",
        "x1^{2} -14x_{1} +x^{2}_{2} -12x_{2} \\ \\leqslant \\ -83\n",
        "\\end{array}\n",
        "\n"
      ]
    },
    {
      "cell_type": "code",
      "metadata": {
        "id": "tUBAt8RjGbQZ",
        "outputId": "bffd6bf2-e9b2-43e6-8fe2-6683768cf1af",
        "colab": {
          "base_uri": "https://localhost:8080/",
          "height": 642
        }
      },
      "source": [
        "model.cons.add(model.x1 ** 2  - 14*model.x1 + model.x2**2 - 12 * model.x2 <= -83)\n",
        "\n",
        "model.pprint()\n",
        "\n",
        "result = solver.solve(model)\n",
        "\n",
        "print('Solver status:', result.solver.status)\n",
        "print('Solver termination condition:',result.solver.termination_condition)\n",
        "print('\\nObjective = ', model.obj())\n",
        "\n",
        "print('\\nDecision Variables')\n",
        "print('x1 = ', model.x1.value)  \n",
        "print('x2 = ', model.x2.value) \n",
        "\n",
        "model.cons.display()\n"
      ],
      "execution_count": null,
      "outputs": [
        {
          "output_type": "stream",
          "text": [
            "1 Set Declarations\n",
            "    cons_index : Size=1, Index=None, Ordered=Insertion\n",
            "        Key  : Dimen : Domain : Size : Members\n",
            "        None :     1 :    Any :    1 :    {1,}\n",
            "\n",
            "2 Var Declarations\n",
            "    x1 : Size=1, Index=None\n",
            "        Key  : Lower : Value : Upper : Fixed : Stale : Domain\n",
            "        None :     5 :   5.0 :    10 : False : False :  Reals\n",
            "    x2 : Size=1, Index=None\n",
            "        Key  : Lower : Value : Upper : Fixed : Stale : Domain\n",
            "        None :     5 :  10.0 :    10 : False : False :  Reals\n",
            "\n",
            "1 Objective Declarations\n",
            "    obj : Size=1, Index=None, Active=True\n",
            "        Key  : Active : Sense    : Expression\n",
            "        None :   True : minimize : 100.0*(x2 - x1**2)**2 + (1 - x1)**2\n",
            "\n",
            "1 Constraint Declarations\n",
            "    cons : Size=1, Index=cons_index, Active=True\n",
            "        Key : Lower : Body                          : Upper : Active\n",
            "          1 :  -Inf : x1**2 - 14*x1 + x2**2 - 12*x2 : -83.0 :   True\n",
            "\n",
            "5 Declarations: x1 x2 obj cons_index cons\n",
            "Solver status: ok\n",
            "Solver termination condition: optimal\n",
            "\n",
            "Objective =  63212.3297363497\n",
            "\n",
            "Decision Variables\n",
            "x1 =  5.591404989462348\n",
            "x2 =  6.125940169329545\n",
            "cons : Size=1\n",
            "    Key : Lower : Body               : Upper\n",
            "      1 :  None : -82.99999917003768 : -83.0\n"
          ],
          "name": "stdout"
        }
      ]
    },
    {
      "cell_type": "markdown",
      "metadata": {
        "id": "PsqrlwZiJ-le"
      },
      "source": [
        "***There is only one constraint and it is also ACTIVE.***"
      ]
    },
    {
      "cell_type": "code",
      "metadata": {
        "id": "E78YqUjiHq3y"
      },
      "source": [
        ""
      ],
      "execution_count": null,
      "outputs": []
    }
  ]
}